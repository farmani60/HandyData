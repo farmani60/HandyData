{
  "nbformat": 4,
  "nbformat_minor": 0,
  "metadata": {
    "colab": {
      "provenance": [],
      "gpuType": "T4"
    },
    "kernelspec": {
      "name": "python3",
      "display_name": "Python 3"
    },
    "language_info": {
      "name": "python"
    },
    "accelerator": "GPU"
  },
  "cells": [
    {
      "cell_type": "code",
      "source": [
        "!python --version"
      ],
      "metadata": {
        "colab": {
          "base_uri": "https://localhost:8080/"
        },
        "id": "wz46In7p2IG5",
        "outputId": "f1b879a3-07b6-476e-d050-af6d01b0db13"
      },
      "execution_count": 1,
      "outputs": [
        {
          "output_type": "stream",
          "name": "stdout",
          "text": [
            "Python 3.10.12\n"
          ]
        }
      ]
    },
    {
      "cell_type": "code",
      "execution_count": 2,
      "metadata": {
        "colab": {
          "base_uri": "https://localhost:8080/"
        },
        "id": "-0rjgR4Z0dAm",
        "outputId": "605d5810-01c1-4cae-8ee7-2f17c23a28f1"
      },
      "outputs": [
        {
          "output_type": "stream",
          "name": "stdout",
          "text": [
            "--2024-10-12 08:29:24--  https://repo.anaconda.com/miniconda/Miniconda3-py311_24.7.1-0-Linux-x86_64.sh\n",
            "Resolving repo.anaconda.com (repo.anaconda.com)... 104.16.191.158, 104.16.32.241, 2606:4700::6810:20f1, ...\n",
            "Connecting to repo.anaconda.com (repo.anaconda.com)|104.16.191.158|:443... connected.\n",
            "HTTP request sent, awaiting response... 200 OK\n",
            "Length: 146933743 (140M) [application/octet-stream]\n",
            "Saving to: ‘Miniconda3-py311_24.7.1-0-Linux-x86_64.sh’\n",
            "\n",
            "Miniconda3-py311_24 100%[===================>] 140.13M   243MB/s    in 0.6s    \n",
            "\n",
            "2024-10-12 08:29:25 (243 MB/s) - ‘Miniconda3-py311_24.7.1-0-Linux-x86_64.sh’ saved [146933743/146933743]\n",
            "\n",
            "PREFIX=/usr/local\n",
            "Unpacking payload ...\n",
            "\n",
            "Installing base environment...\n",
            "\n",
            "Preparing transaction: ...working... done\n",
            "Executing transaction: ...working... done\n",
            "installation finished.\n",
            "WARNING:\n",
            "    You currently have a PYTHONPATH environment variable set. This may cause\n",
            "    unexpected behavior when running the Python interpreter in Miniconda3.\n",
            "    For best results, please verify that your PYTHONPATH only points to\n",
            "    directories of packages that are compatible with the Python interpreter\n",
            "    in Miniconda3: /usr/local\n"
          ]
        }
      ],
      "source": [
        "################################################################################\n",
        "# INSTALL CONDA ON GOOGLE COLAB\n",
        "################################################################################\n",
        "! wget https://repo.anaconda.com/miniconda/Miniconda3-py311_24.7.1-0-Linux-x86_64.sh\n",
        "! chmod +x Miniconda3-py311_24.7.1-0-Linux-x86_64.sh\n",
        "! bash ./Miniconda3-py311_24.7.1-0-Linux-x86_64.sh -b -f -p /usr/local\n",
        "import sys\n",
        "sys.path.append('/usr/local/lib/python3.11/site-packages/')"
      ]
    },
    {
      "cell_type": "code",
      "source": [
        "!which python"
      ],
      "metadata": {
        "colab": {
          "base_uri": "https://localhost:8080/"
        },
        "id": "QdAQ2wUB1cAd",
        "outputId": "a477e68c-75f5-4b5c-b02a-8d0f9d605fd3"
      },
      "execution_count": 3,
      "outputs": [
        {
          "output_type": "stream",
          "name": "stdout",
          "text": [
            "/usr/local/bin/python\n"
          ]
        }
      ]
    },
    {
      "cell_type": "code",
      "source": [
        "!python --version"
      ],
      "metadata": {
        "colab": {
          "base_uri": "https://localhost:8080/"
        },
        "id": "t7Ca_1R_1qxz",
        "outputId": "44f6463a-d819-4cbf-806d-d40d03d87128"
      },
      "execution_count": 4,
      "outputs": [
        {
          "output_type": "stream",
          "name": "stdout",
          "text": [
            "Python 3.11.9\n"
          ]
        }
      ]
    },
    {
      "cell_type": "code",
      "source": [
        "!pip list"
      ],
      "metadata": {
        "colab": {
          "base_uri": "https://localhost:8080/"
        },
        "id": "hwAsFwni1uFX",
        "outputId": "2d7d0603-98d1-4593-dcc6-296c2342c6a7"
      },
      "execution_count": 5,
      "outputs": [
        {
          "output_type": "stream",
          "name": "stdout",
          "text": [
            "Package                 Version\n",
            "----------------------- --------\n",
            "anaconda-anon-usage     0.4.4\n",
            "archspec                0.2.3\n",
            "boltons                 23.0.0\n",
            "Brotli                  1.0.9\n",
            "certifi                 2024.7.4\n",
            "cffi                    1.16.0\n",
            "charset-normalizer      3.3.2\n",
            "conda                   24.7.1\n",
            "conda-content-trust     0.2.0\n",
            "conda-libmamba-solver   24.7.0\n",
            "conda-package-handling  2.3.0\n",
            "conda_package_streaming 0.10.0\n",
            "cryptography            42.0.5\n",
            "distro                  1.9.0\n",
            "frozendict              2.4.2\n",
            "idna                    3.7\n",
            "jsonpatch               1.33\n",
            "jsonpointer             2.1\n",
            "libmambapy              1.5.8\n",
            "menuinst                2.1.2\n",
            "packaging               24.1\n",
            "pip                     24.2\n",
            "platformdirs            3.10.0\n",
            "pluggy                  1.0.0\n",
            "pycosat                 0.6.6\n",
            "pycparser               2.21\n",
            "PySocks                 1.7.1\n",
            "requests                2.32.3\n",
            "ruamel.yaml             0.17.21\n",
            "setuptools              72.1.0\n",
            "tqdm                    4.66.4\n",
            "truststore              0.8.0\n",
            "urllib3                 2.2.2\n",
            "wheel                   0.43.0\n",
            "zstandard               0.22.0\n"
          ]
        }
      ]
    },
    {
      "cell_type": "code",
      "source": [
        "!pip install --upgrade pip"
      ],
      "metadata": {
        "colab": {
          "base_uri": "https://localhost:8080/"
        },
        "id": "o9iwC-Da1ycf",
        "outputId": "fcc37658-af6d-461c-99aa-bc5dc25b8c12"
      },
      "execution_count": 6,
      "outputs": [
        {
          "output_type": "stream",
          "name": "stdout",
          "text": [
            "Requirement already satisfied: pip in /usr/local/lib/python3.11/site-packages (24.2)\n"
          ]
        }
      ]
    },
    {
      "cell_type": "code",
      "source": [
        "!pip install dataset"
      ],
      "metadata": {
        "colab": {
          "base_uri": "https://localhost:8080/"
        },
        "id": "nnFkqJZU2WKP",
        "outputId": "53b9bc1d-2f8b-4754-b4d0-91266c471ab1"
      },
      "execution_count": 8,
      "outputs": [
        {
          "output_type": "stream",
          "name": "stdout",
          "text": [
            "Collecting dataset\n",
            "  Downloading dataset-1.6.2-py2.py3-none-any.whl.metadata (1.9 kB)\n",
            "Collecting sqlalchemy<2.0.0,>=1.3.2 (from dataset)\n",
            "  Downloading SQLAlchemy-1.4.54-cp311-cp311-manylinux_2_5_x86_64.manylinux1_x86_64.manylinux_2_17_x86_64.manylinux2014_x86_64.whl.metadata (10 kB)\n",
            "Collecting alembic>=0.6.2 (from dataset)\n",
            "  Downloading alembic-1.13.3-py3-none-any.whl.metadata (7.4 kB)\n",
            "Collecting banal>=1.0.1 (from dataset)\n",
            "  Downloading banal-1.0.6-py2.py3-none-any.whl.metadata (1.4 kB)\n",
            "Collecting Mako (from alembic>=0.6.2->dataset)\n",
            "  Downloading Mako-1.3.5-py3-none-any.whl.metadata (2.9 kB)\n",
            "Collecting typing-extensions>=4 (from alembic>=0.6.2->dataset)\n",
            "  Using cached typing_extensions-4.12.2-py3-none-any.whl.metadata (3.0 kB)\n",
            "Collecting greenlet!=0.4.17 (from sqlalchemy<2.0.0,>=1.3.2->dataset)\n",
            "  Downloading greenlet-3.1.1-cp311-cp311-manylinux_2_24_x86_64.manylinux_2_28_x86_64.whl.metadata (3.8 kB)\n",
            "Collecting MarkupSafe>=0.9.2 (from Mako->alembic>=0.6.2->dataset)\n",
            "  Downloading MarkupSafe-3.0.1-cp311-cp311-manylinux_2_17_x86_64.manylinux2014_x86_64.whl.metadata (4.0 kB)\n",
            "Downloading dataset-1.6.2-py2.py3-none-any.whl (18 kB)\n",
            "Downloading alembic-1.13.3-py3-none-any.whl (233 kB)\n",
            "Downloading banal-1.0.6-py2.py3-none-any.whl (6.1 kB)\n",
            "Downloading SQLAlchemy-1.4.54-cp311-cp311-manylinux_2_5_x86_64.manylinux1_x86_64.manylinux_2_17_x86_64.manylinux2014_x86_64.whl (1.6 MB)\n",
            "\u001b[2K   \u001b[90m━━━━━━━━━━━━━━━━━━━━━━━━━━━━━━━━━━━━━━━━\u001b[0m \u001b[32m1.6/1.6 MB\u001b[0m \u001b[31m53.5 MB/s\u001b[0m eta \u001b[36m0:00:00\u001b[0m\n",
            "\u001b[?25hDownloading greenlet-3.1.1-cp311-cp311-manylinux_2_24_x86_64.manylinux_2_28_x86_64.whl (602 kB)\n",
            "\u001b[2K   \u001b[90m━━━━━━━━━━━━━━━━━━━━━━━━━━━━━━━━━━━━━━━━\u001b[0m \u001b[32m602.4/602.4 kB\u001b[0m \u001b[31m27.0 MB/s\u001b[0m eta \u001b[36m0:00:00\u001b[0m\n",
            "\u001b[?25hUsing cached typing_extensions-4.12.2-py3-none-any.whl (37 kB)\n",
            "Downloading Mako-1.3.5-py3-none-any.whl (78 kB)\n",
            "Downloading MarkupSafe-3.0.1-cp311-cp311-manylinux_2_17_x86_64.manylinux2014_x86_64.whl (23 kB)\n",
            "Installing collected packages: banal, typing-extensions, MarkupSafe, greenlet, sqlalchemy, Mako, alembic, dataset\n",
            "Successfully installed Mako-1.3.5 MarkupSafe-3.0.1 alembic-1.13.3 banal-1.0.6 dataset-1.6.2 greenlet-3.1.1 sqlalchemy-1.4.54 typing-extensions-4.12.2\n"
          ]
        }
      ]
    },
    {
      "cell_type": "code",
      "source": [
        "! pip list"
      ],
      "metadata": {
        "colab": {
          "base_uri": "https://localhost:8080/"
        },
        "id": "F3gkdGs-2fFy",
        "outputId": "0d21c15d-d301-4cd4-f428-49908d1cbfaf"
      },
      "execution_count": 1,
      "outputs": [
        {
          "output_type": "stream",
          "name": "stdout",
          "text": [
            "Package                 Version\n",
            "----------------------- --------\n",
            "alembic                 1.13.3\n",
            "anaconda-anon-usage     0.4.4\n",
            "archspec                0.2.3\n",
            "banal                   1.0.6\n",
            "boltons                 23.0.0\n",
            "Brotli                  1.0.9\n",
            "certifi                 2024.7.4\n",
            "cffi                    1.16.0\n",
            "charset-normalizer      3.3.2\n",
            "conda                   24.7.1\n",
            "conda-content-trust     0.2.0\n",
            "conda-libmamba-solver   24.7.0\n",
            "conda-package-handling  2.3.0\n",
            "conda_package_streaming 0.10.0\n",
            "cryptography            42.0.5\n",
            "dataset                 1.6.2\n",
            "distro                  1.9.0\n",
            "evaluation              0.0.2\n",
            "frozendict              2.4.2\n",
            "glog                    0.3.1\n",
            "greenlet                3.1.1\n",
            "idna                    3.7\n",
            "jsonpatch               1.33\n",
            "jsonpointer             2.1\n",
            "libmambapy              1.5.8\n",
            "Mako                    1.3.5\n",
            "MarkupSafe              3.0.1\n",
            "menuinst                2.1.2\n",
            "numpy                   2.1.2\n",
            "packaging               24.1\n",
            "pip                     24.2\n",
            "platformdirs            3.10.0\n",
            "pluggy                  1.0.0\n",
            "pycosat                 0.6.6\n",
            "pycparser               2.21\n",
            "PySocks                 1.7.1\n",
            "python-gflags           3.1.2\n",
            "requests                2.32.3\n",
            "ruamel.yaml             0.17.21\n",
            "setuptools              72.1.0\n",
            "six                     1.16.0\n",
            "SQLAlchemy              1.4.54\n",
            "tqdm                    4.66.4\n",
            "truststore              0.8.0\n",
            "typing_extensions       4.12.2\n",
            "urllib3                 2.2.2\n",
            "wheel                   0.43.0\n",
            "zstandard               0.22.0\n"
          ]
        }
      ]
    },
    {
      "cell_type": "code",
      "source": [
        "! pip install --no-input evaluation"
      ],
      "metadata": {
        "colab": {
          "base_uri": "https://localhost:8080/",
          "height": 532
        },
        "id": "STuGnlMW3AXL",
        "outputId": "f151f296-fbaa-4263-d497-01f8c4fd53e1"
      },
      "execution_count": 14,
      "outputs": [
        {
          "output_type": "stream",
          "name": "stdout",
          "text": [
            "Collecting evaluation\n",
            "  Downloading evaluation-0.0.2.tar.gz (2.1 kB)\n",
            "  Preparing metadata (setup.py) ... \u001b[?25l\u001b[?25hdone\n",
            "Requirement already satisfied: numpy in /usr/local/lib/python3.11/site-packages (from evaluation) (2.1.2)\n",
            "Collecting glog (from evaluation)\n",
            "  Downloading glog-0.3.1-py2.py3-none-any.whl.metadata (4.4 kB)\n",
            "Collecting python-gflags>=3.1 (from glog->evaluation)\n",
            "  Downloading python-gflags-3.1.2.tar.gz (52 kB)\n",
            "  Preparing metadata (setup.py) ... \u001b[?25l\u001b[?25hdone\n",
            "Collecting six (from glog->evaluation)\n",
            "  Using cached six-1.16.0-py2.py3-none-any.whl.metadata (1.8 kB)\n",
            "Downloading glog-0.3.1-py2.py3-none-any.whl (7.8 kB)\n",
            "Using cached six-1.16.0-py2.py3-none-any.whl (11 kB)\n",
            "Building wheels for collected packages: evaluation, python-gflags\n",
            "  Building wheel for evaluation (setup.py) ... \u001b[?25l\u001b[?25hdone\n",
            "  Created wheel for evaluation: filename=evaluation-0.0.2-py3-none-any.whl size=2445 sha256=c6ce8eb2229455879a1cb8c6de272fe3e513676bb673a7ff6820e8e092105a9b\n",
            "  Stored in directory: /root/.cache/pip/wheels/2b/0e/cf/ca6dd6807f277503b984a8e158cd5f8c12907df59326de5fba\n",
            "  Building wheel for python-gflags (setup.py) ... \u001b[?25l\u001b[?25hdone\n",
            "  Created wheel for python-gflags: filename=python_gflags-3.1.2-py3-none-any.whl size=57371 sha256=e811372860d445fdbb6bf67953fb7424096fb8c53d45af3b2d1d70af56d220f3\n",
            "  Stored in directory: /root/.cache/pip/wheels/08/32/87/be6254803d81af495c135b8b662d4a076e7a91dc7766f05a25\n",
            "Successfully built evaluation python-gflags\n",
            "Installing collected packages: python-gflags, six, glog, evaluation\n",
            "Successfully installed evaluation-0.0.2 glog-0.3.1 python-gflags-3.1.2 six-1.16.0\n"
          ]
        },
        {
          "output_type": "display_data",
          "data": {
            "application/vnd.colab-display-data+json": {
              "pip_warning": {
                "packages": [
                  "six"
                ]
              },
              "id": "8062bc5572d14d0c91eff8dbc6ee9e8a"
            }
          },
          "metadata": {}
        }
      ]
    },
    {
      "cell_type": "code",
      "source": [
        "! pip install --no-input numpy"
      ],
      "metadata": {
        "colab": {
          "base_uri": "https://localhost:8080/"
        },
        "id": "QLensm5o3Z1o",
        "outputId": "8aee283a-17c4-4f28-e98b-1df5fd59df01"
      },
      "execution_count": 13,
      "outputs": [
        {
          "output_type": "stream",
          "name": "stdout",
          "text": [
            "Collecting numpy\n",
            "  Downloading numpy-2.1.2-cp311-cp311-manylinux_2_17_x86_64.manylinux2014_x86_64.whl.metadata (60 kB)\n",
            "Downloading numpy-2.1.2-cp311-cp311-manylinux_2_17_x86_64.manylinux2014_x86_64.whl (16.3 MB)\n",
            "\u001b[2K   \u001b[90m━━━━━━━━━━━━━━━━━━━━━━━━━━━━━━━━━━━━━━━━\u001b[0m \u001b[32m16.3/16.3 MB\u001b[0m \u001b[31m34.1 MB/s\u001b[0m eta \u001b[36m0:00:00\u001b[0m\n",
            "\u001b[?25hInstalling collected packages: numpy\n",
            "Successfully installed numpy-2.1.2\n"
          ]
        }
      ]
    },
    {
      "cell_type": "code",
      "source": [],
      "metadata": {
        "id": "3pYiZxHb30_b"
      },
      "execution_count": null,
      "outputs": []
    }
  ]
}